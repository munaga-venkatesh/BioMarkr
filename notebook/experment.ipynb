{
 "cells": [
  {
   "cell_type": "code",
   "execution_count": 1,
   "id": "2bdce2c3",
   "metadata": {},
   "outputs": [
    {
     "name": "stderr",
     "output_type": "stream",
     "text": [
      "/Users/venkateshmunaga/Python Practice/BioMarkr/.venv/lib/python3.13/site-packages/tqdm/auto.py:21: TqdmWarning: IProgress not found. Please update jupyter and ipywidgets. See https://ipywidgets.readthedocs.io/en/stable/user_install.html\n",
      "  from .autonotebook import tqdm as notebook_tqdm\n"
     ]
    }
   ],
   "source": [
    "import os\n",
    "import torch\n",
    "import pandas as pd\n",
    "from Bio import Entrez\n",
    "from dotenv import load_dotenv\n",
    "from transformers import AutoTokenizer, AutoModelForTokenClassification\n",
    "from transformers import pipeline\n",
    "from typing import List\n",
    "from src.utils.logger import logging"
   ]
  },
  {
   "cell_type": "code",
   "execution_count": 2,
   "id": "125a49ba",
   "metadata": {},
   "outputs": [],
   "source": [
    "load_dotenv()\n",
    "email = os.getenv(\"ENTREZ_EMAIL\")\n",
    "api_key = os.getenv(\"ENTREZ_API_KEY\")\n",
    "\n",
    "Entrez.email = email\n",
    "Entrez.api_key = api_key"
   ]
  },
  {
   "cell_type": "code",
   "execution_count": 3,
   "id": "ed8d8a4b",
   "metadata": {},
   "outputs": [],
   "source": [
    "def fetch_abstract_ids(disease: str, max_articles: int) -> List[str]:\n",
    "    try:\n",
    "        with Entrez.esearch(db=\"pubmed\", term=disease, retmax=max_articles) as handle:\n",
    "            record = Entrez.read(handle)\n",
    "        ids = record.get(\"IdList\", [])\n",
    "        return ids\n",
    "    except Exception as e:\n",
    "        raise e"
   ]
  },
  {
   "cell_type": "code",
   "execution_count": 4,
   "id": "21f7bdeb",
   "metadata": {},
   "outputs": [],
   "source": [
    "def fetch_abstract_by_id(pmid: str) -> str:\n",
    "    try:\n",
    "        with Entrez.efetch(db=\"pubmed\", id=pmid, rettype=[\"abstract\"], retmode=\"text\") as handle:\n",
    "            return handle.read()\n",
    "    except Exception as e:\n",
    "        raise e"
   ]
  },
  {
   "cell_type": "code",
   "execution_count": 5,
   "id": "6750218d",
   "metadata": {},
   "outputs": [
    {
     "name": "stderr",
     "output_type": "stream",
     "text": [
      "Some weights of BertForTokenClassification were not initialized from the model checkpoint at dmis-lab/biobert-base-cased-v1.1 and are newly initialized: ['classifier.bias', 'classifier.weight']\n",
      "You should probably TRAIN this model on a down-stream task to be able to use it for predictions and inference.\n",
      "Device set to use mps:0\n"
     ]
    }
   ],
   "source": [
    "device = (\n",
    "    \"cuda\" if torch.cuda.is_available()\n",
    "    else \"mps\" if torch.backends.mps.is_available()\n",
    "    else \"cpu\"\n",
    ")\n",
    "\n",
    "model_name = \"dmis-lab/biobert-base-cased-v1.1\"\n",
    "\n",
    "tokenizer = AutoTokenizer.from_pretrained(model_name)\n",
    "model = AutoModelForTokenClassification.from_pretrained(model_name)\n",
    "model.to(device)\n",
    "\n",
    "ner_pipeline = pipeline(\"ner\", model=model, tokenizer=tokenizer, aggregation_strategy=\"simple\")"
   ]
  },
  {
   "cell_type": "code",
   "execution_count": 6,
   "id": "1c5a0644",
   "metadata": {},
   "outputs": [
    {
     "name": "stdout",
     "output_type": "stream",
     "text": [
      "[\"1. Genet Med. 2025 Jun 21:101507. doi: 10.1016/j.gim.2025.101507. Online ahead of\\n print.\\n\\nEUGENICS AND POLYGENIC EMBRYO SCREENING: PUBLIC, CLINICIAN, AND PATIENT \\nPERCEPTIONS OF CONDITIONS VERSUS TRAITS.\\n\\nBarlevy D(1), Furrer RA(2), Kalapatapu A(3), Martinez A(3), Lencz T(4), Carmi \\nS(5), Lázaro-Muñoz G(6), Pereira S(3).\\n\\nAuthor information:\\n(1)Center for Medical Ethics and Health Policy, Baylor College of Medicine, \\nHouston, TX, USA. Electronic address: dorit.barlevy@bcm.edu.\\n(2)Department of Neurosurgery, Massachusetts General Hospital, Boston, MA, USA; \\nHarvard Medical School, Boston, MA, USA.\\n(3)Center for Medical Ethics and Health Policy, Baylor College of Medicine, \\nHouston, TX, USA.\\n(4)Institute of Behavioral Science, The Feinstein Institutes for Medical \\nResearch, Northwell Health, Manhasset, NY, USA; Departments of Psychiatry and \\nMolecular Medicine, Zucker School of Medicine at Hofstra/Northwell, Hempstead, \\nNY, USA; Division of Research, Department of Psychiatry, The Zucker Hillside \\nHospital Division of Northwell Health, Glen Oaks, NY, USA.\\n(5)Braun School of Public Health and Community Medicine, The Hebrew University \\nof Jerusalem, Jerusalem, Israel.\\n(6)Department of Neurosurgery, Massachusetts General Hospital, Boston, MA, USA; \\nHarvard Medical School, Boston, MA, USA; Department of Psychiatry, Massachusetts \\nGeneral Hospital, Boston, MA, USA.\\n\\nPURPOSE: Polygenic embryo screening (PES) estimates an embryo's genetic chances \\nof developing complex conditions (e.g., cancer) and traits (e.g., height). \\nStakeholders have raised concerns that PES promotes eugenic practices and \\nideology.\\nMETHODS: We surveyed a nationally representative sample of the US public on \\napproval of screening embryos for 12 conditions and 12 traits, and examined the \\nassociation between disapproval and concern about eugenics. We also conducted \\nsemi-structured interviews with US-based reproductive endocrinology and \\ninfertility specialists (REIs) and in vitro fertilization (IVF) patients on \\ntheir perspectives towards PES.\\nRESULTS: Among the US public (n=1423), disapproval of screening embryos for \\ntraits has a stronger association with concern that PES promotes eugenics than \\ndisapproval of screening embryos for conditions. Interviews with REIs (n=27) and \\nIVF patients (n=26) suggest that perceptions of PES as eugenic were more common \\nwhen discussing screening and selecting for or against traits versus selecting \\nagainst conditions.\\nDISCUSSION: Results suggest PES for traits is more frequently associated with \\neugenics and perceived often as unacceptable while PES for conditions is \\nperceived sometimes as acceptable. Future research should explore whether the \\ndistinction between conditions and traits is meaningful in the definition of \\neugenics and/or approval of genomics-based embryo selection and how that \\ninfluences clinical practices and policy.\\n\\nCopyright © 2025. Published by Elsevier Inc.\\n\\nDOI: 10.1016/j.gim.2025.101507\\nPMID: 40557708\", '1. Addiction. 2025 Jun 25. doi: 10.1111/add.70120. Online ahead of print.\\n\\nChanging patterns of nicotine product use and nicotine dependence among United \\nStates high-school students: The National Youth Tobacco Survey, 2014-2023.\\n\\nJackson SE(1)(2), Brown J(1)(2), Tattan-Birch H(1)(2), Jarvis MJ(1).\\n\\nAuthor information:\\n(1)Department of Behavioural Science and Health, University College London, \\nLondon, UK.\\n(2)SPECTRUM Consortium, Edinburgh, UK.\\n\\nBACKGROUND AND AIM: Concerns have been raised that e-cigarettes have created a \\nnew generation of people addicted to nicotine. This study aimed to measure \\nchanges in the proportion of US high-school students reporting symptoms of \\nnicotine dependence over the past decade, in the context of changing patterns of \\nnicotine product use.\\nDESIGN: Repeat cross-sectional analyses of the 2014-2023 National Youth Tobacco \\nSurveys.\\nSETTING: United States of America.\\nPARTICIPANTS: 107\\u2009968 high-school students (14-18y).\\nMEASUREMENTS: Nicotine product use was categorised based on self-reported \\npast-30-day use of cigarettes, other combustible tobacco, \\nsmokeless/non-combustible products and e-cigarettes. Nicotine dependence was \\noperationalised as (a) strong past-30-day cravings to use tobacco and (b) \\nwanting to use nicotine products within 30\\u2009minutes of waking.\\nFINDINGS: Past-30-day use of any nicotine product decreased from 24.5% (95% \\nconfidence interval\\u2009=\\u200922.5%-26.6%) to 19.6% (16.8%-22.4%) between 2014 and 2017, \\nincreased sharply, reaching 31.4% (29.0%-33.7%) in 2019 (driven by an increase \\nin e-cigarette use), then fell to the lowest level at 12.5% (10.9%-14.1%) by \\n2023. The proportion who reported symptoms of nicotine dependence was \\nsubstantially lower, but followed a similar pattern of changes over time. For \\nexample, the proportion reporting strong cravings decreased from 7.8% \\n(6.6%-9.0%) to 5.5% (4.3%-6.7%) between 2014 and 2017, increased to 7.9% \\n(6.8%-9.0%) between 2017 and 2018 and remained stable up to 2020, then fell to \\nthe lowest level at 2.5% (1.9%-3.1%) by 2023. While dependence symptoms were \\nconsistently highest among cigarette users, they were increasingly prevalent \\namong those using only e-cigarettes after 2017.\\nCONCLUSIONS: The sharp rise in the prevalence of nicotine product use (in \\nparticular, e-cigarettes) among US high-school students in the late 2010s was \\nshort-lived and was not accompanied by a sustained increase in the overall \\npopulation burden of nicotine dependence. By 2023, both nicotine product use and \\nnicotine dependence had reached historic lows. However, dependence symptoms \\nincreased over time among those using e-cigarettes only.\\n\\n© 2025 Society for the Study of Addiction.\\n\\nDOI: 10.1111/add.70120\\nPMID: 40557691', '1. J Mater Chem B. 2025 Jun 25. doi: 10.1039/d4tb01657b. Online ahead of print.\\n\\nMoiré superlattices of copper nanocluster assemblies for cancer theranostics.\\n\\nDas P(1)(2), Debasmita D(3), Roy S(3), Ghosh SS(3)(4), Chattopadhyay A(1)(3).\\n\\nAuthor information:\\n(1)Department of Chemistry, Indian Institute of Technology Guwahati, \\nGuwahati-781039, India. arun@iitg.ac.in.\\n(2)Department of Chemistry & Biochemistry, Sharda University, Greater Noida, \\nUttar Pradesh-201310, India.\\n(3)Centre for Nanotechnology, Indian Institute of Technology Guwahati, \\nGuwahati-781039, India. sghosh@iitg.ac.in.\\n(4)Department of Biosciences and Bioengineering, Indian Institute of Technology \\nGuwahati, Guwahati-781039, India.\\n\\nHerein, we report the first evidence showing the superior therapeutic and \\ndiagnostic effects of 2D moiré superlattice nanosheets of luminescent copper \\nnanocluster assemblies on cancerous HeLa cells compared to the parent \\nnanoclusters or their 2D assemblies. These superlattices, at very low \\nconcentrations of the metal (10.15 ± 2.06 μM), exhibited higher cytotoxicity, \\nleading to cell disintegration. Importantly, this compound did not significantly \\nimpact healthy cells. This discovery suggests a potential method for designing \\nnano-drugs and highlights the usefulness of moiré superlattices in healthcare \\ntheranostics.\\n\\nDOI: 10.1039/d4tb01657b\\nPMID: 40557654', '1. Cancer Rep (Hoboken). 2025 Jun;8(6):e70225. doi: 10.1002/cnr2.70225.\\n\\nConsensus on Information Provision for Patients With Early-Stage Colorectal \\nCancer: A Delphi Study Among Healthcare Practitioners and Patients.\\n\\nPrata I(1)(2)(3), Vermeer NCA(1), Peeters KCMJ(2), Holman FA(2), Meershoek-Klein \\nKranenbarg E(2), Pieterse AH(4).\\n\\nAuthor information:\\n(1)Department of Surgery, Netherlands Cancer Institute, Amsterdam, the \\nNetherlands.\\n(2)Department of Surgery, Leiden University Medical Center, Leiden, the \\nNetherlands.\\n(3)GROW, School for Oncology and Reproduction, Maastricht University, \\nMaastricht, the Netherlands.\\n(4)Medical Decision Making, Department of Biomedical Data Sciences, Leiden \\nUniversity Medical Center, Leiden, the Netherlands.\\n\\nBACKGROUND: Patients with radically endoscopically treated T1 colorectal cancer \\n(CRC) with at least one high-risk histopathological characteristic are presented \\nwith the choice between additional surgical resection with lymphadenectomy or \\nintensive surveillance. Healthcare practitioners (HCPs) from various disciplines \\nprovide information on the complex trade-offs involved.\\nAIM: We aimed to reach consensus on what information patients should be offered \\nat the time of decision making.\\nMETHODS: We invited HCPs and patients with early-stage (pT1-3N0M0) CRC to \\nparticipate in a three-round online Delphi study. In the first round, \\nparticipants were asked to indicate the relevance of 163 items regarding CRC \\nsurgery and intensive surveillance, using five-point Likert-type scales. The \\nfollowing rounds only included the items on which no consensus had been reached \\nyet, supplemented with new items that participants had suggested in the previous \\nround(s). Criteria for consensus were defined in advance.\\nRESULTS: Thirty percent (109/341) of the invited participants completed ≥\\u200950% of \\nitems in the first round. After the third round, consensus was reached on 80/154 \\nitems regarding colon cancer and 129/179 items regarding rectal cancer; of \\nthese, respectively, 40 and 47 items were considered relevant. HCPs tended to \\nconsider more frequently occurring complications relevant compared to patients. \\nPatients also considered rare complications relevant but expressed worries about \\ninformation overload. There was clear consensus on items regarding different \\ntypes of surgery and recovery expectations, the risk of anastomotic leakage and \\nof receiving a stoma, and the risk of recurrence after both surgery and \\nintensive surveillance.\\nCONCLUSION: A consensus-based, standardized set of information items was defined \\nin order to facilitate that patients receive complete information in a uniform \\nway. The results of this study aim to support patients and their HCPs to make a \\nwell-informed decision between additional surgical resection with \\nlymphadenectomy and intensive surveillance.\\n\\n© 2025 The Author(s). Cancer Reports published by Wiley Periodicals LLC.\\n\\nDOI: 10.1002/cnr2.70225\\nPMID: 40557643', '1. Br J Haematol. 2025 Jun 25. doi: 10.1111/bjh.20225. Online ahead of print.\\n\\nLarge-cell transformation of mycosis fungoides: Patterns of care and patient \\noutcomes.\\n\\nJohnstone P(1)(2), Higgins M(1)(3), Prince HM(2)(4), Lade S(5), McCormack C(6), \\nvan der Weyden C(2)(4), Bhabha F(6), Buelens O(4), Blombery P(2)(4)(5), Campbell \\nBA(1)(2)(7).\\n\\nAuthor information:\\n(1)Department of Radiation Oncology, Peter MacCallum Cancer Centre, Melbourne, \\nVictoria, Australia.\\n(2)Sir Peter MacCallum Department of Oncology, University of Melbourne, \\nParkville, Victoria, Australia.\\n(3)Department of Radiation Oncology, Cork University Hospital, Cork, Ireland.\\n(4)Department of Haematology, Peter MacCallum Cancer Centre and Royal Melbourne \\nHospital, Melbourne, Victoria, Australia.\\n(5)Department of Pathology, Peter MacCallum Cancer Centre, Melbourne, Victoria, \\nAustralia.\\n(6)Department of Surgical Oncology, Peter MacCallum Cancer Centre, Melbourne, \\nVictoria, Australia.\\n(7)Department of Clinical Pathology, University of Melbourne, Parkville, \\nVictoria, Australia.\\n\\nLarge-cell transformation of mycosis fungoides (LCTMF) is rare, histologically \\ndistinct, with an aggressive clinical course; yet is not recognised as an \\nindependent entity in classification systems nor in staging systems for mycosis \\nfungoides and Sézary syndrome (MF/SS). Herein, the patterns of care and survival \\noutcomes for patients with LCTMF are described, with prognosis compared to \\npublished data of non-transformed MF/SS. Eligibility required \\nclinicopathological diagnosis of LCTMF (1/1/1990-31/10/2021), managed at Peter \\nMacCallum Cancer Centre. Eighty-three patients were eligible. Median follow-up \\nwas 8.0\\u2009years. At the time of LCTMF, 36% had early-stage MF (IA-IIA), 76% had \\ncutaneous-only LCTMF. The most common first-line treatments were localised \\nradiotherapy (48%) and multiagent chemotherapy (23%). Median overall survival \\n(OS) from LCTMF diagnosis was 3.5\\u2009years (95% [confidence interval] CI: 2.2-8.2). \\nThree prognostic groups of LCTMF were identified: unifocal cutaneous only, \\nmultifocal cutaneous only and extracutaneous (median OS: 4.6, 2.5 and 1.1\\u2009years, \\nrespectively; p\\u2009=\\u20090.005). Unfavourable prognostic factors were advanced age and \\nextracutaneous LCTMF. In conclusion, treatment pathways for patients with LCTMF \\nwere varied, and prognosis was poor, despite >1/3 having early-stage MF. \\nHowever, differences in prognosis were suggested, with unifocal cutaneous LCTMF \\nassociated with greater OS. Given prognostic differences from MF/SS, \\nconsideration to include LCTMF in staging systems is warranted.\\n\\n© 2025 The Author(s). British Journal of Haematology published by British \\nSociety for Haematology and John Wiley & Sons Ltd.\\n\\nDOI: 10.1111/bjh.20225\\nPMID: 40557623']\n"
     ]
    }
   ],
   "source": [
    "ids = fetch_abstract_ids(disease=\"cancer\", max_articles=5)\n",
    "abstract = [fetch_abstract_by_id(pmid=id) for id in ids]\n",
    "print(abstract)"
   ]
  },
  {
   "cell_type": "code",
   "execution_count": 7,
   "id": "6fda946f",
   "metadata": {},
   "outputs": [
    {
     "name": "stdout",
     "output_type": "stream",
     "text": [
      "1. Genet Med. 2025 Jun 21:101507. doi: 10.1016/j.gim.2025.101507. Online ahead of\n",
      " print.\n",
      "\n",
      "EUGENICS AND POLYGENIC EMBRYO SCREENING: PUBLIC, CLINICIAN, AND PATIENT \n",
      "PERCEPTIONS OF CONDITIONS VERSUS TRAITS.\n",
      "\n",
      "Barlevy D(1), Furrer RA(2), Kalapatapu A(3), Martinez A(3), Lencz T(4), Carmi \n",
      "S(5), Lázaro-Muñoz G(6), Pereira S(3).\n",
      "\n",
      "Author information:\n",
      "(1)Center for Medical Ethics and Health Policy, Baylor College of Medicine, \n",
      "Houston, TX, USA. Electronic address: dorit.barlevy@bcm.edu.\n",
      "(2)Department of Neurosurgery, Massachusetts General Hospital, Boston, MA, USA; \n",
      "Harvard Medical School, Boston, MA, USA.\n",
      "(3)Center for Medical Ethics and Health Policy, Baylor College of Medicine, \n",
      "Houston, TX, USA.\n",
      "(4)Institute of Behavioral Science, The Feinstein Institutes for Medical \n",
      "Research, Northwell Health, Manhasset, NY, USA; Departments of Psychiatry and \n",
      "Molecular Medicine, Zucker School of Medicine at Hofstra/Northwell, Hempstead, \n",
      "NY, USA; Division of Research, Department of Psychiatry, The Zucker Hillside \n",
      "Hospital Division of Northwell Health, Glen Oaks, NY, USA.\n",
      "(5)Braun School of Public Health and Community Medicine, The Hebrew University \n",
      "of Jerusalem, Jerusalem, Israel.\n",
      "(6)Department of Neurosurgery, Massachusetts General Hospital, Boston, MA, USA; \n",
      "Harvard Medical School, Boston, MA, USA; Department of Psychiatry, Massachusetts \n",
      "General Hospital, Boston, MA, USA.\n",
      "\n",
      "PURPOSE: Polygenic embryo screening (PES) estimates an embryo's genetic chances \n",
      "of developing complex conditions (e.g., cancer) and traits (e.g., height). \n",
      "Stakeholders have raised concerns that PES promotes eugenic practices and \n",
      "ideology.\n",
      "METHODS: We surveyed a nationally representative sample of the US public on \n",
      "approval of screening embryos for 12 conditions and 12 traits, and examined the \n",
      "association between disapproval and concern about eugenics. We also conducted \n",
      "semi-structured interviews with US-based reproductive endocrinology and \n",
      "infertility specialists (REIs) and in vitro fertilization (IVF) patients on \n",
      "their perspectives towards PES.\n",
      "RESULTS: Among the US public (n=1423), disapproval of screening embryos for \n",
      "traits has a stronger association with concern that PES promotes eugenics than \n",
      "disapproval of screening embryos for conditions. Interviews with REIs (n=27) and \n",
      "IVF patients (n=26) suggest that perceptions of PES as eugenic were more common \n",
      "when discussing screening and selecting for or against traits versus selecting \n",
      "against conditions.\n",
      "DISCUSSION: Results suggest PES for traits is more frequently associated with \n",
      "eugenics and perceived often as unacceptable while PES for conditions is \n",
      "perceived sometimes as acceptable. Future research should explore whether the \n",
      "distinction between conditions and traits is meaningful in the definition of \n",
      "eugenics and/or approval of genomics-based embryo selection and how that \n",
      "influences clinical practices and policy.\n",
      "\n",
      "Copyright © 2025. Published by Elsevier Inc.\n",
      "\n",
      "DOI: 10.1016/j.gim.2025.101507\n",
      "PMID: 40557708\n"
     ]
    }
   ],
   "source": [
    "print(abstract[0])"
   ]
  },
  {
   "cell_type": "code",
   "execution_count": 8,
   "id": "d299b47a",
   "metadata": {},
   "outputs": [],
   "source": [
    "from datasets import load_dataset"
   ]
  },
  {
   "cell_type": "code",
   "execution_count": 16,
   "id": "19fe3342",
   "metadata": {},
   "outputs": [
    {
     "name": "stderr",
     "output_type": "stream",
     "text": [
      "Downloading data: 1.14MB [00:00, 6.75MB/s]                  \n",
      "Downloading data: 200kB [00:00, 687kB/s]                     \n",
      "Downloading data: 206kB [00:00, 3.16MB/s]                    \n",
      "Generating train split: 100%|██████████| 5433/5433 [00:00<00:00, 27855.83 examples/s]\n",
      "Generating validation split: 100%|██████████| 924/924 [00:00<00:00, 27562.31 examples/s]\n",
      "Generating test split: 100%|██████████| 941/941 [00:00<00:00, 27303.76 examples/s]\n"
     ]
    }
   ],
   "source": [
    "dataset = load_dataset(\"ncbi/ncbi_disease\")"
   ]
  },
  {
   "cell_type": "code",
   "execution_count": 28,
   "id": "6686a746",
   "metadata": {},
   "outputs": [
    {
     "data": {
      "text/plain": [
       "{'id': '456',\n",
       " 'tokens': ['beta',\n",
       "  '-',\n",
       "  'Glucuronidase',\n",
       "  'activity',\n",
       "  'was',\n",
       "  'undetectable',\n",
       "  'in',\n",
       "  'affected',\n",
       "  'cat',\n",
       "  'fibroblasts',\n",
       "  'and',\n",
       "  'restored',\n",
       "  'by',\n",
       "  'retroviral',\n",
       "  'gene',\n",
       "  'transfer',\n",
       "  'of',\n",
       "  'rat',\n",
       "  'beta',\n",
       "  '-',\n",
       "  'glucuronidase',\n",
       "  'cDNA',\n",
       "  '.'],\n",
       " 'ner_tags': [0,\n",
       "  0,\n",
       "  0,\n",
       "  0,\n",
       "  0,\n",
       "  0,\n",
       "  0,\n",
       "  0,\n",
       "  0,\n",
       "  0,\n",
       "  0,\n",
       "  0,\n",
       "  0,\n",
       "  0,\n",
       "  0,\n",
       "  0,\n",
       "  0,\n",
       "  0,\n",
       "  0,\n",
       "  0,\n",
       "  0,\n",
       "  0,\n",
       "  0]}"
      ]
     },
     "execution_count": 28,
     "metadata": {},
     "output_type": "execute_result"
    }
   ],
   "source": [
    "dataset[\"train\"][456]"
   ]
  },
  {
   "cell_type": "code",
   "execution_count": null,
   "id": "4996536c",
   "metadata": {},
   "outputs": [
    {
     "data": {
      "text/plain": [
       "DatasetDict({\n",
       "    train: Dataset({\n",
       "        features: ['id', 'tokens', 'ner_tags'],\n",
       "        num_rows: 5433\n",
       "    })\n",
       "    validation: Dataset({\n",
       "        features: ['id', 'tokens', 'ner_tags'],\n",
       "        num_rows: 924\n",
       "    })\n",
       "    test: Dataset({\n",
       "        features: ['id', 'tokens', 'ner_tags'],\n",
       "        num_rows: 941\n",
       "    })\n",
       "})"
      ]
     },
     "execution_count": 27,
     "metadata": {},
     "output_type": "execute_result"
    }
   ],
   "source": []
  },
  {
   "cell_type": "code",
   "execution_count": null,
   "id": "4f8229d3",
   "metadata": {},
   "outputs": [],
   "source": []
  }
 ],
 "metadata": {
  "kernelspec": {
   "display_name": ".venv",
   "language": "python",
   "name": "python3"
  },
  "language_info": {
   "codemirror_mode": {
    "name": "ipython",
    "version": 3
   },
   "file_extension": ".py",
   "mimetype": "text/x-python",
   "name": "python",
   "nbconvert_exporter": "python",
   "pygments_lexer": "ipython3",
   "version": "3.13.3"
  }
 },
 "nbformat": 4,
 "nbformat_minor": 5
}
